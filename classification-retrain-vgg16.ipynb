{
 "metadata": {
  "kernelspec": {
   "display_name": "Python 3",
   "language": "python",
   "name": "python3"
  },
  "language_info": {
   "codemirror_mode": {
    "name": "ipython",
    "version": 3
   },
   "file_extension": ".py",
   "mimetype": "text/x-python",
   "name": "python",
   "nbconvert_exporter": "python",
   "pygments_lexer": "ipython3",
   "version": "3.10.12"
  },
  "colab": {
   "provenance": []
  },
  "kaggle": {
   "accelerator": "none",
   "dataSources": [
    {
     "sourceId": 10564,
     "sourceType": "datasetVersion",
     "datasetId": 7415
    }
   ],
   "dockerImageVersionId": 30664,
   "isInternetEnabled": true,
   "language": "python",
   "sourceType": "notebook",
   "isGpuEnabled": false
  }
 },
 "nbformat_minor": 4,
 "nbformat": 4,
 "cells": [
  {
   "cell_type": "code",
   "source": "import torch\nfrom torch.utils.data import DataLoader\nimport torchvision.datasets as datasets\nimport matplotlib.pyplot as plt\nimport torch\nimport torch.nn as nn\nimport torch.optim as optim\nfrom torchvision import datasets, transforms\nfrom glob import glob\nimport pandas as pd\nfrom torch.utils.data import Dataset\nfrom torch.utils.data import DataLoader\nfrom sklearn.model_selection import train_test_split\nimport cv2\nimport numpy as np\nfrom sklearn.svm import SVC\nimport torchvision.models as models",
   "metadata": {
    "execution": {
     "iopub.execute_input": "2023-09-02T11:17:48.746172Z",
     "iopub.status.busy": "2023-09-02T11:17:48.745679Z",
     "iopub.status.idle": "2023-09-02T11:17:48.753818Z",
     "shell.execute_reply": "2023-09-02T11:17:48.752372Z",
     "shell.execute_reply.started": "2023-09-02T11:17:48.746139Z"
    },
    "id": "xNjWmyHySWgg",
    "trusted": true,
    "ExecuteTime": {
     "end_time": "2024-11-08T11:53:53.377355Z",
     "start_time": "2024-11-08T11:53:46.936356Z"
    }
   },
   "outputs": [],
   "execution_count": 2
  },
  {
   "metadata": {
    "ExecuteTime": {
     "end_time": "2024-11-08T12:04:21.606858Z",
     "start_time": "2024-11-08T12:04:21.601556Z"
    }
   },
   "cell_type": "code",
   "source": "import ssl",
   "outputs": [],
   "execution_count": 32
  },
  {
   "cell_type": "code",
   "source": "device = torch.device(\"cuda\" if torch.cuda.is_available() else \"cpu\")",
   "metadata": {
    "execution": {
     "iopub.execute_input": "2023-09-02T11:17:57.532593Z",
     "iopub.status.busy": "2023-09-02T11:17:57.532226Z",
     "iopub.status.idle": "2023-09-02T11:17:57.560895Z",
     "shell.execute_reply": "2023-09-02T11:17:57.559936Z",
     "shell.execute_reply.started": "2023-09-02T11:17:57.532562Z"
    },
    "id": "NSq8hpjVSWgn",
    "trusted": true,
    "ExecuteTime": {
     "end_time": "2024-11-08T11:53:56.342616Z",
     "start_time": "2024-11-08T11:53:56.329995Z"
    }
   },
   "outputs": [],
   "execution_count": 3
  },
  {
   "cell_type": "code",
   "source": "device",
   "metadata": {
    "execution": {
     "iopub.execute_input": "2023-09-02T11:18:03.595203Z",
     "iopub.status.busy": "2023-09-02T11:18:03.594821Z",
     "iopub.status.idle": "2023-09-02T11:18:03.603056Z",
     "shell.execute_reply": "2023-09-02T11:18:03.601836Z",
     "shell.execute_reply.started": "2023-09-02T11:18:03.595173Z"
    },
    "id": "Z_UwMuaGSWgo",
    "outputId": "2fb2769f-377e-4f54-fd86-76f81a0cbd04",
    "trusted": true,
    "ExecuteTime": {
     "end_time": "2024-11-08T11:53:58.431672Z",
     "start_time": "2024-11-08T11:53:58.404157Z"
    }
   },
   "outputs": [
    {
     "data": {
      "text/plain": [
       "device(type='cpu')"
      ]
     },
     "execution_count": 4,
     "metadata": {},
     "output_type": "execute_result"
    }
   ],
   "execution_count": 4
  },
  {
   "cell_type": "code",
   "source": "imagePatches = glob('IDC_regular_ps50_idx5/*/*/*')",
   "metadata": {
    "execution": {
     "iopub.execute_input": "2023-09-02T11:18:06.666685Z",
     "iopub.status.busy": "2023-09-02T11:18:06.665863Z",
     "iopub.status.idle": "2023-09-02T11:20:06.872644Z",
     "shell.execute_reply": "2023-09-02T11:20:06.871591Z",
     "shell.execute_reply.started": "2023-09-02T11:18:06.666653Z"
    },
    "id": "C7Pq575fSWgr",
    "trusted": true,
    "ExecuteTime": {
     "end_time": "2024-11-08T12:02:13.910383Z",
     "start_time": "2024-11-08T12:02:10.077964Z"
    }
   },
   "outputs": [],
   "execution_count": 21
  },
  {
   "cell_type": "code",
   "source": "len(imagePatches)",
   "metadata": {
    "execution": {
     "iopub.execute_input": "2023-09-02T11:20:37.148345Z",
     "iopub.status.busy": "2023-09-02T11:20:37.147997Z",
     "iopub.status.idle": "2023-09-02T11:20:37.154577Z",
     "shell.execute_reply": "2023-09-02T11:20:37.153647Z",
     "shell.execute_reply.started": "2023-09-02T11:20:37.148318Z"
    },
    "id": "9JNjzmgMSWgs",
    "outputId": "4d2618c1-c2a5-4087-a9b7-cd91161292ea",
    "trusted": true,
    "ExecuteTime": {
     "end_time": "2024-11-08T12:02:13.975023Z",
     "start_time": "2024-11-08T12:02:13.971448Z"
    }
   },
   "outputs": [
    {
     "data": {
      "text/plain": [
       "277524"
      ]
     },
     "execution_count": 22,
     "metadata": {},
     "output_type": "execute_result"
    }
   ],
   "execution_count": 22
  },
  {
   "cell_type": "code",
   "source": "# imagePatches = [imagePatches[i] for i in range(len(imagePatches)) if 'IDC' not in imagePatches[i]]",
   "metadata": {
    "execution": {
     "iopub.execute_input": "2023-09-02T11:20:41.466668Z",
     "iopub.status.busy": "2023-09-02T11:20:41.466317Z",
     "iopub.status.idle": "2023-09-02T11:20:41.52375Z",
     "shell.execute_reply": "2023-09-02T11:20:41.522705Z",
     "shell.execute_reply.started": "2023-09-02T11:20:41.466637Z"
    },
    "id": "4SllYmrRSWgt",
    "trusted": true,
    "ExecuteTime": {
     "end_time": "2024-11-08T12:01:51.981401Z",
     "start_time": "2024-11-08T12:01:51.972343Z"
    }
   },
   "outputs": [],
   "execution_count": 19
  },
  {
   "cell_type": "code",
   "source": "len(imagePatches)",
   "metadata": {
    "execution": {
     "iopub.execute_input": "2023-09-02T11:20:43.639827Z",
     "iopub.status.busy": "2023-09-02T11:20:43.639488Z",
     "iopub.status.idle": "2023-09-02T11:20:43.647519Z",
     "shell.execute_reply": "2023-09-02T11:20:43.646417Z",
     "shell.execute_reply.started": "2023-09-02T11:20:43.639799Z"
    },
    "id": "5qFl7n8WSWgt",
    "outputId": "c5d95965-57f6-4616-d554-43d7e9d91eb0",
    "trusted": true,
    "ExecuteTime": {
     "end_time": "2024-11-08T12:02:22.019182Z",
     "start_time": "2024-11-08T12:02:21.990271Z"
    }
   },
   "outputs": [
    {
     "data": {
      "text/plain": [
       "277524"
      ]
     },
     "execution_count": 23,
     "metadata": {},
     "output_type": "execute_result"
    }
   ],
   "execution_count": 23
  },
  {
   "cell_type": "code",
   "source": "y = []\nfor img in imagePatches:\n    if img.endswith('class0.png'):\n        y.append(0)\n    elif img.endswith('class1.png'):\n        y.append(1)\n\nprint(len(y))",
   "metadata": {
    "execution": {
     "iopub.execute_input": "2023-09-02T11:20:46.402867Z",
     "iopub.status.busy": "2023-09-02T11:20:46.40173Z",
     "iopub.status.idle": "2023-09-02T11:20:46.521489Z",
     "shell.execute_reply": "2023-09-02T11:20:46.520026Z",
     "shell.execute_reply.started": "2023-09-02T11:20:46.402825Z"
    },
    "id": "ymKMkpvuSWgu",
    "outputId": "77804c2f-9230-46ba-cb64-177932e1974b",
    "trusted": true,
    "ExecuteTime": {
     "end_time": "2024-11-08T12:02:24.550152Z",
     "start_time": "2024-11-08T12:02:24.474358Z"
    }
   },
   "outputs": [
    {
     "name": "stdout",
     "output_type": "stream",
     "text": [
      "277524\n"
     ]
    }
   ],
   "execution_count": 24
  },
  {
   "cell_type": "code",
   "source": "class MyDataset(Dataset):\n    def __init__(self, df_data,transform=None):\n        super().__init__()\n        self.df = df_data.values\n\n        self.transform = transform\n\n    def __len__(self):\n        return len(self.df)\n\n    def __getitem__(self, index):\n        img_path,label = self.df[index]\n\n        image = cv2.imread(img_path)\n        image = cv2.resize(image, (50,50))\n        if self.transform is not None:\n            image = self.transform(image)\n        return image, label",
   "metadata": {
    "execution": {
     "iopub.execute_input": "2023-09-02T11:20:49.729006Z",
     "iopub.status.busy": "2023-09-02T11:20:49.728627Z",
     "iopub.status.idle": "2023-09-02T11:20:49.736897Z",
     "shell.execute_reply": "2023-09-02T11:20:49.735744Z",
     "shell.execute_reply.started": "2023-09-02T11:20:49.728975Z"
    },
    "id": "S2IX9nG2SWgv",
    "trusted": true,
    "ExecuteTime": {
     "end_time": "2024-11-08T12:02:25.938014Z",
     "start_time": "2024-11-08T12:02:25.916330Z"
    }
   },
   "outputs": [],
   "execution_count": 25
  },
  {
   "cell_type": "code",
   "source": "images_df = pd.DataFrame()\nimages_df[\"images\"] = imagePatches\nimages_df[\"labels\"] = y\nimages_df.head()",
   "metadata": {
    "execution": {
     "iopub.execute_input": "2023-09-02T11:20:56.055795Z",
     "iopub.status.busy": "2023-09-02T11:20:56.055434Z",
     "iopub.status.idle": "2023-09-02T11:20:56.267502Z",
     "shell.execute_reply": "2023-09-02T11:20:56.266419Z",
     "shell.execute_reply.started": "2023-09-02T11:20:56.055767Z"
    },
    "id": "Ja_yhpYtSWg-",
    "outputId": "d34dcd2e-c0df-4fc5-d95e-293b2457943d",
    "trusted": true,
    "ExecuteTime": {
     "end_time": "2024-11-08T12:02:28.579111Z",
     "start_time": "2024-11-08T12:02:28.153702Z"
    }
   },
   "outputs": [
    {
     "data": {
      "text/plain": [
       "                                              images  labels\n",
       "0  IDC_regular_ps50_idx5/9036/0/9036_idx5_x1051_y...       0\n",
       "1  IDC_regular_ps50_idx5/9036/0/9036_idx5_x2951_y...       0\n",
       "2  IDC_regular_ps50_idx5/9036/0/9036_idx5_x3001_y...       0\n",
       "3  IDC_regular_ps50_idx5/9036/0/9036_idx5_x3051_y...       0\n",
       "4  IDC_regular_ps50_idx5/9036/0/9036_idx5_x951_y1...       0"
      ],
      "text/html": [
       "<div>\n",
       "<style scoped>\n",
       "    .dataframe tbody tr th:only-of-type {\n",
       "        vertical-align: middle;\n",
       "    }\n",
       "\n",
       "    .dataframe tbody tr th {\n",
       "        vertical-align: top;\n",
       "    }\n",
       "\n",
       "    .dataframe thead th {\n",
       "        text-align: right;\n",
       "    }\n",
       "</style>\n",
       "<table border=\"1\" class=\"dataframe\">\n",
       "  <thead>\n",
       "    <tr style=\"text-align: right;\">\n",
       "      <th></th>\n",
       "      <th>images</th>\n",
       "      <th>labels</th>\n",
       "    </tr>\n",
       "  </thead>\n",
       "  <tbody>\n",
       "    <tr>\n",
       "      <th>0</th>\n",
       "      <td>IDC_regular_ps50_idx5/9036/0/9036_idx5_x1051_y...</td>\n",
       "      <td>0</td>\n",
       "    </tr>\n",
       "    <tr>\n",
       "      <th>1</th>\n",
       "      <td>IDC_regular_ps50_idx5/9036/0/9036_idx5_x2951_y...</td>\n",
       "      <td>0</td>\n",
       "    </tr>\n",
       "    <tr>\n",
       "      <th>2</th>\n",
       "      <td>IDC_regular_ps50_idx5/9036/0/9036_idx5_x3001_y...</td>\n",
       "      <td>0</td>\n",
       "    </tr>\n",
       "    <tr>\n",
       "      <th>3</th>\n",
       "      <td>IDC_regular_ps50_idx5/9036/0/9036_idx5_x3051_y...</td>\n",
       "      <td>0</td>\n",
       "    </tr>\n",
       "    <tr>\n",
       "      <th>4</th>\n",
       "      <td>IDC_regular_ps50_idx5/9036/0/9036_idx5_x951_y1...</td>\n",
       "      <td>0</td>\n",
       "    </tr>\n",
       "  </tbody>\n",
       "</table>\n",
       "</div>"
      ]
     },
     "execution_count": 26,
     "metadata": {},
     "output_type": "execute_result"
    }
   ],
   "execution_count": 26
  },
  {
   "cell_type": "code",
   "source": "train, test = train_test_split(images_df, stratify=images_df.labels, test_size=0.2,random_state=42)\ntrain, val = train_test_split(train, stratify=train.labels, test_size=0.2,random_state=42)\nlen(train), len(val),len(test)",
   "metadata": {
    "execution": {
     "iopub.execute_input": "2023-09-02T11:20:59.859266Z",
     "iopub.status.busy": "2023-09-02T11:20:59.858829Z",
     "iopub.status.idle": "2023-09-02T11:21:00.210769Z",
     "shell.execute_reply": "2023-09-02T11:21:00.209839Z",
     "shell.execute_reply.started": "2023-09-02T11:20:59.859231Z"
    },
    "id": "B1iTxwN4SWg_",
    "outputId": "ebf1bb16-2918-4fc2-abe5-78fa88d0f700",
    "trusted": true,
    "ExecuteTime": {
     "end_time": "2024-11-08T12:02:32.882115Z",
     "start_time": "2024-11-08T12:02:32.710451Z"
    }
   },
   "outputs": [
    {
     "data": {
      "text/plain": [
       "(177615, 44404, 55505)"
      ]
     },
     "execution_count": 27,
     "metadata": {},
     "output_type": "execute_result"
    }
   ],
   "execution_count": 27
  },
  {
   "cell_type": "code",
   "source": "num_epochs = 20\nnum_classes = 2\nbatch_size = 128\nlearning_rate = 0.0001",
   "metadata": {
    "execution": {
     "iopub.execute_input": "2023-09-02T11:21:04.928114Z",
     "iopub.status.busy": "2023-09-02T11:21:04.927648Z",
     "iopub.status.idle": "2023-09-02T11:21:04.935268Z",
     "shell.execute_reply": "2023-09-02T11:21:04.934122Z",
     "shell.execute_reply.started": "2023-09-02T11:21:04.928077Z"
    },
    "id": "kiQqz8cphi8m",
    "trusted": true,
    "ExecuteTime": {
     "end_time": "2024-11-08T12:02:34.169668Z",
     "start_time": "2024-11-08T12:02:34.166258Z"
    }
   },
   "outputs": [],
   "execution_count": 28
  },
  {
   "cell_type": "code",
   "source": "trans_train = transforms.Compose([transforms.ToPILImage(),\n                                  transforms.Pad(10, padding_mode='reflect'),\n                                  transforms.RandomHorizontalFlip(),\n                                  transforms.RandomVerticalFlip(),\n                                  transforms.RandomRotation(20),\n                                  transforms.ToTensor(),\n                                  transforms.Normalize(mean=[0.5, 0.5, 0.5],std=[0.5, 0.5, 0.5])])\n\ntrans_valid = transforms.Compose([transforms.ToPILImage(),\n                                  transforms.Pad(10, padding_mode='reflect'),\n                                  transforms.ToTensor(),\n                                  transforms.Normalize(mean=[0.5, 0.5, 0.5],std=[0.5, 0.5, 0.5])])\n\ndataset_train = MyDataset(df_data=train, transform=trans_train)\ndataset_valid = MyDataset(df_data=val,transform=trans_valid)\ndataset_test = MyDataset(df_data=test,transform=trans_valid)\n\nloader_train = DataLoader(dataset = dataset_train, batch_size=batch_size, shuffle=True, num_workers=0)\nloader_valid = DataLoader(dataset = dataset_valid, batch_size=batch_size//2, shuffle=True, num_workers=0)\nloader_test = DataLoader(dataset = dataset_test, batch_size=batch_size//2, shuffle=False, num_workers=0)",
   "metadata": {
    "execution": {
     "iopub.execute_input": "2023-09-02T11:21:17.840446Z",
     "iopub.status.busy": "2023-09-02T11:21:17.839722Z",
     "iopub.status.idle": "2023-09-02T11:21:17.87422Z",
     "shell.execute_reply": "2023-09-02T11:21:17.873267Z",
     "shell.execute_reply.started": "2023-09-02T11:21:17.840406Z"
    },
    "id": "6Yp1w8d0SWhB",
    "trusted": true,
    "ExecuteTime": {
     "end_time": "2024-11-08T12:02:37.832912Z",
     "start_time": "2024-11-08T12:02:37.768640Z"
    }
   },
   "outputs": [],
   "execution_count": 29
  },
  {
   "metadata": {
    "ExecuteTime": {
     "end_time": "2024-11-08T12:04:25.961674Z",
     "start_time": "2024-11-08T12:04:25.956511Z"
    }
   },
   "cell_type": "code",
   "source": "ssl._create_default_https_context = ssl._create_unverified_context",
   "outputs": [],
   "execution_count": 33
  },
  {
   "cell_type": "code",
   "source": "vggmodel = models.vgg16(weights='IMAGENET1K_V1')\nvggmodel.classifier[6] = nn.Linear(4096, num_classes)",
   "metadata": {
    "execution": {
     "iopub.execute_input": "2023-09-02T11:21:27.863088Z",
     "iopub.status.busy": "2023-09-02T11:21:27.862637Z",
     "iopub.status.idle": "2023-09-02T11:21:32.392733Z",
     "shell.execute_reply": "2023-09-02T11:21:32.39132Z",
     "shell.execute_reply.started": "2023-09-02T11:21:27.86305Z"
    },
    "id": "tmKJFq9NSWpi",
    "outputId": "6b2cbe08-c910-40a7-dbb3-7a26e2286769",
    "trusted": true,
    "ExecuteTime": {
     "end_time": "2024-11-08T12:05:00.872958Z",
     "start_time": "2024-11-08T12:04:27.576541Z"
    }
   },
   "outputs": [
    {
     "name": "stderr",
     "output_type": "stream",
     "text": [
      "Downloading: \"https://download.pytorch.org/models/vgg16-397923af.pth\" to /Users/tomiriszhaksylyk/.cache/torch/hub/checkpoints/vgg16-397923af.pth\n",
      "100.0%\n"
     ]
    }
   ],
   "execution_count": 34
  },
  {
   "cell_type": "code",
   "source": "for n, p in vggmodel.named_parameters():\n    print(p.requires_grad)",
   "metadata": {
    "execution": {
     "iopub.execute_input": "2023-09-02T11:21:37.043654Z",
     "iopub.status.busy": "2023-09-02T11:21:37.043293Z",
     "iopub.status.idle": "2023-09-02T11:21:37.052378Z",
     "shell.execute_reply": "2023-09-02T11:21:37.048917Z",
     "shell.execute_reply.started": "2023-09-02T11:21:37.043622Z"
    },
    "id": "EHhx0f9Thi8u",
    "outputId": "e5f06b3f-388f-4139-9c38-a141a5d4138d",
    "trusted": true,
    "ExecuteTime": {
     "end_time": "2024-11-08T12:05:06.047885Z",
     "start_time": "2024-11-08T12:05:06.035553Z"
    }
   },
   "outputs": [
    {
     "name": "stdout",
     "output_type": "stream",
     "text": [
      "True\n",
      "True\n",
      "True\n",
      "True\n",
      "True\n",
      "True\n",
      "True\n",
      "True\n",
      "True\n",
      "True\n",
      "True\n",
      "True\n",
      "True\n",
      "True\n",
      "True\n",
      "True\n",
      "True\n",
      "True\n",
      "True\n",
      "True\n",
      "True\n",
      "True\n",
      "True\n",
      "True\n",
      "True\n",
      "True\n",
      "True\n",
      "True\n",
      "True\n",
      "True\n",
      "True\n",
      "True\n"
     ]
    }
   ],
   "execution_count": 35
  },
  {
   "cell_type": "code",
   "source": "criterion = nn.CrossEntropyLoss()\noptimizer = optim.SGD(vggmodel.parameters(), lr=learning_rate, momentum=0.9)",
   "metadata": {
    "execution": {
     "iopub.execute_input": "2023-09-02T11:21:42.809303Z",
     "iopub.status.busy": "2023-09-02T11:21:42.808959Z",
     "iopub.status.idle": "2023-09-02T11:21:42.814835Z",
     "shell.execute_reply": "2023-09-02T11:21:42.813932Z",
     "shell.execute_reply.started": "2023-09-02T11:21:42.809275Z"
    },
    "id": "BiNCdRmlhi8v",
    "trusted": true,
    "ExecuteTime": {
     "end_time": "2024-11-08T12:05:08.118883Z",
     "start_time": "2024-11-08T12:05:08.085786Z"
    }
   },
   "outputs": [],
   "execution_count": 36
  },
  {
   "cell_type": "code",
   "source": "vggmodel.to(device)",
   "metadata": {
    "execution": {
     "iopub.execute_input": "2023-09-02T11:21:46.084369Z",
     "iopub.status.busy": "2023-09-02T11:21:46.083937Z",
     "iopub.status.idle": "2023-09-02T11:21:49.496107Z",
     "shell.execute_reply": "2023-09-02T11:21:49.495161Z",
     "shell.execute_reply.started": "2023-09-02T11:21:46.084335Z"
    },
    "id": "P1fF3O18SWpy",
    "outputId": "a48b2701-2bf6-4dbb-eccc-7f1ff4502a2d",
    "trusted": true,
    "ExecuteTime": {
     "end_time": "2024-11-08T12:05:09.765160Z",
     "start_time": "2024-11-08T12:05:09.754606Z"
    }
   },
   "outputs": [
    {
     "data": {
      "text/plain": [
       "VGG(\n",
       "  (features): Sequential(\n",
       "    (0): Conv2d(3, 64, kernel_size=(3, 3), stride=(1, 1), padding=(1, 1))\n",
       "    (1): ReLU(inplace=True)\n",
       "    (2): Conv2d(64, 64, kernel_size=(3, 3), stride=(1, 1), padding=(1, 1))\n",
       "    (3): ReLU(inplace=True)\n",
       "    (4): MaxPool2d(kernel_size=2, stride=2, padding=0, dilation=1, ceil_mode=False)\n",
       "    (5): Conv2d(64, 128, kernel_size=(3, 3), stride=(1, 1), padding=(1, 1))\n",
       "    (6): ReLU(inplace=True)\n",
       "    (7): Conv2d(128, 128, kernel_size=(3, 3), stride=(1, 1), padding=(1, 1))\n",
       "    (8): ReLU(inplace=True)\n",
       "    (9): MaxPool2d(kernel_size=2, stride=2, padding=0, dilation=1, ceil_mode=False)\n",
       "    (10): Conv2d(128, 256, kernel_size=(3, 3), stride=(1, 1), padding=(1, 1))\n",
       "    (11): ReLU(inplace=True)\n",
       "    (12): Conv2d(256, 256, kernel_size=(3, 3), stride=(1, 1), padding=(1, 1))\n",
       "    (13): ReLU(inplace=True)\n",
       "    (14): Conv2d(256, 256, kernel_size=(3, 3), stride=(1, 1), padding=(1, 1))\n",
       "    (15): ReLU(inplace=True)\n",
       "    (16): MaxPool2d(kernel_size=2, stride=2, padding=0, dilation=1, ceil_mode=False)\n",
       "    (17): Conv2d(256, 512, kernel_size=(3, 3), stride=(1, 1), padding=(1, 1))\n",
       "    (18): ReLU(inplace=True)\n",
       "    (19): Conv2d(512, 512, kernel_size=(3, 3), stride=(1, 1), padding=(1, 1))\n",
       "    (20): ReLU(inplace=True)\n",
       "    (21): Conv2d(512, 512, kernel_size=(3, 3), stride=(1, 1), padding=(1, 1))\n",
       "    (22): ReLU(inplace=True)\n",
       "    (23): MaxPool2d(kernel_size=2, stride=2, padding=0, dilation=1, ceil_mode=False)\n",
       "    (24): Conv2d(512, 512, kernel_size=(3, 3), stride=(1, 1), padding=(1, 1))\n",
       "    (25): ReLU(inplace=True)\n",
       "    (26): Conv2d(512, 512, kernel_size=(3, 3), stride=(1, 1), padding=(1, 1))\n",
       "    (27): ReLU(inplace=True)\n",
       "    (28): Conv2d(512, 512, kernel_size=(3, 3), stride=(1, 1), padding=(1, 1))\n",
       "    (29): ReLU(inplace=True)\n",
       "    (30): MaxPool2d(kernel_size=2, stride=2, padding=0, dilation=1, ceil_mode=False)\n",
       "  )\n",
       "  (avgpool): AdaptiveAvgPool2d(output_size=(7, 7))\n",
       "  (classifier): Sequential(\n",
       "    (0): Linear(in_features=25088, out_features=4096, bias=True)\n",
       "    (1): ReLU(inplace=True)\n",
       "    (2): Dropout(p=0.5, inplace=False)\n",
       "    (3): Linear(in_features=4096, out_features=4096, bias=True)\n",
       "    (4): ReLU(inplace=True)\n",
       "    (5): Dropout(p=0.5, inplace=False)\n",
       "    (6): Linear(in_features=4096, out_features=2, bias=True)\n",
       "  )\n",
       ")"
      ]
     },
     "execution_count": 37,
     "metadata": {},
     "output_type": "execute_result"
    }
   ],
   "execution_count": 37
  },
  {
   "cell_type": "code",
   "source": "vgg_best_accuracy = 0\nvgg_best_weights = None",
   "metadata": {
    "execution": {
     "iopub.execute_input": "2023-09-02T11:21:55.31397Z",
     "iopub.status.busy": "2023-09-02T11:21:55.312868Z",
     "iopub.status.idle": "2023-09-02T11:21:55.319184Z",
     "shell.execute_reply": "2023-09-02T11:21:55.318152Z",
     "shell.execute_reply.started": "2023-09-02T11:21:55.313925Z"
    },
    "id": "YiZylfPSSWpz",
    "trusted": true,
    "ExecuteTime": {
     "end_time": "2024-11-08T12:05:13.876796Z",
     "start_time": "2024-11-08T12:05:13.858348Z"
    }
   },
   "outputs": [],
   "execution_count": 38
  },
  {
   "cell_type": "code",
   "source": "trl = []\ntrac = []\nvall = []\nvalac = []",
   "metadata": {
    "execution": {
     "iopub.execute_input": "2023-09-02T11:21:59.782938Z",
     "iopub.status.busy": "2023-09-02T11:21:59.782563Z",
     "iopub.status.idle": "2023-09-02T11:21:59.788529Z",
     "shell.execute_reply": "2023-09-02T11:21:59.787177Z",
     "shell.execute_reply.started": "2023-09-02T11:21:59.782905Z"
    },
    "id": "3V7zUhE3ve6F",
    "trusted": true,
    "ExecuteTime": {
     "end_time": "2024-11-08T12:05:15.368881Z",
     "start_time": "2024-11-08T12:05:15.358356Z"
    }
   },
   "outputs": [],
   "execution_count": 39
  },
  {
   "cell_type": "code",
   "source": "for epoch in range(num_epochs):\n    train_loss = 0.0\n    train_correct = 0\n    train_total = 0\n    vggmodel.train()\n    for i, (inputs, targets) in enumerate(loader_train):\n        inputs = inputs.to(device)\n        targets = targets.to(device)\n        optimizer.zero_grad()\n        outputs = vggmodel(inputs)\n        loss = criterion(outputs, targets)\n        loss.backward()\n        optimizer.step()\n\n        _, predicted = torch.max(outputs.data, 1)\n        train_loss += loss.item() * inputs.size(0)\n        train_correct += (predicted == targets).sum().item()\n        train_total += targets.size(0)\n\n    train_loss /= len(train)\n    train_acc = train_correct / train_total\n\n    trl.append(train_loss)\n    trac.append(train_acc)\n\n\n    val_loss = 0.0\n    val_correct = 0\n    val_total = 0\n    vggmodel.eval()\n    with torch.no_grad():\n        for inputs, targets in loader_valid:\n            inputs = inputs.to(device)\n            targets = targets.to(device)\n            outputs = vggmodel(inputs)\n            loss = criterion(outputs, targets)\n            _, predicted = torch.max(outputs.data, 1)\n            val_loss += loss.item() * inputs.size(0)\n            val_correct += (predicted == targets).sum().item()\n            val_total += targets.size(0)\n\n    val_loss /= len(val)\n    val_acc = val_correct / val_total\n\n    vall.append(val_loss)\n    valac.append(val_acc)\n\n    if val_acc > vgg_best_accuracy:\n            vgg_best_accuracy = val_acc\n            vgg_best_weights = vggmodel.state_dict()\n\n    print(f\"Epoch {epoch+1} - Train Loss: {train_loss:.4f}, Train Acc: {train_acc:.4f}, Val Loss: {val_loss:.4f}, Val Acc: {val_acc:.4f}\")",
   "metadata": {
    "execution": {
     "iopub.execute_input": "2023-09-02T11:22:06.571562Z",
     "iopub.status.busy": "2023-09-02T11:22:06.570763Z",
     "iopub.status.idle": "2023-09-02T15:17:07.107256Z",
     "shell.execute_reply": "2023-09-02T15:17:07.106161Z",
     "shell.execute_reply.started": "2023-09-02T11:22:06.571526Z"
    },
    "id": "NmBVi8ZpSWpz",
    "outputId": "2362e702-1e1c-448e-8b79-d66b7341553c",
    "trusted": true,
    "ExecuteTime": {
     "end_time": "2024-11-08T12:36:24.752544Z",
     "start_time": "2024-11-08T12:05:16.726928Z"
    }
   },
   "outputs": [
    {
     "name": "stderr",
     "output_type": "stream",
     "text": [
      "Exception ignored in: <bound method IPythonKernel._clean_thread_parent_frames of <ipykernel.ipkernel.IPythonKernel object at 0x105856ee0>>\n",
      "Traceback (most recent call last):\n",
      "  File \"/Users/tomiriszhaksylyk/PycharmProjects/IDC_Pytorch/.venv/lib/python3.9/site-packages/ipykernel/ipkernel.py\", line 775, in _clean_thread_parent_frames\n",
      "    def _clean_thread_parent_frames(\n",
      "KeyboardInterrupt: \n"
     ]
    },
    {
     "ename": "KeyboardInterrupt",
     "evalue": "",
     "output_type": "error",
     "traceback": [
      "\u001B[0;31m---------------------------------------------------------------------------\u001B[0m",
      "\u001B[0;31mKeyboardInterrupt\u001B[0m                         Traceback (most recent call last)",
      "Cell \u001B[0;32mIn[40], line 12\u001B[0m\n\u001B[1;32m     10\u001B[0m outputs \u001B[38;5;241m=\u001B[39m vggmodel(inputs)\n\u001B[1;32m     11\u001B[0m loss \u001B[38;5;241m=\u001B[39m criterion(outputs, targets)\n\u001B[0;32m---> 12\u001B[0m \u001B[43mloss\u001B[49m\u001B[38;5;241;43m.\u001B[39;49m\u001B[43mbackward\u001B[49m\u001B[43m(\u001B[49m\u001B[43m)\u001B[49m\n\u001B[1;32m     13\u001B[0m optimizer\u001B[38;5;241m.\u001B[39mstep()\n\u001B[1;32m     15\u001B[0m _, predicted \u001B[38;5;241m=\u001B[39m torch\u001B[38;5;241m.\u001B[39mmax(outputs\u001B[38;5;241m.\u001B[39mdata, \u001B[38;5;241m1\u001B[39m)\n",
      "File \u001B[0;32m~/PycharmProjects/IDC_Pytorch/.venv/lib/python3.9/site-packages/torch/_tensor.py:581\u001B[0m, in \u001B[0;36mTensor.backward\u001B[0;34m(self, gradient, retain_graph, create_graph, inputs)\u001B[0m\n\u001B[1;32m    571\u001B[0m \u001B[38;5;28;01mif\u001B[39;00m has_torch_function_unary(\u001B[38;5;28mself\u001B[39m):\n\u001B[1;32m    572\u001B[0m     \u001B[38;5;28;01mreturn\u001B[39;00m handle_torch_function(\n\u001B[1;32m    573\u001B[0m         Tensor\u001B[38;5;241m.\u001B[39mbackward,\n\u001B[1;32m    574\u001B[0m         (\u001B[38;5;28mself\u001B[39m,),\n\u001B[0;32m   (...)\u001B[0m\n\u001B[1;32m    579\u001B[0m         inputs\u001B[38;5;241m=\u001B[39minputs,\n\u001B[1;32m    580\u001B[0m     )\n\u001B[0;32m--> 581\u001B[0m \u001B[43mtorch\u001B[49m\u001B[38;5;241;43m.\u001B[39;49m\u001B[43mautograd\u001B[49m\u001B[38;5;241;43m.\u001B[39;49m\u001B[43mbackward\u001B[49m\u001B[43m(\u001B[49m\n\u001B[1;32m    582\u001B[0m \u001B[43m    \u001B[49m\u001B[38;5;28;43mself\u001B[39;49m\u001B[43m,\u001B[49m\u001B[43m \u001B[49m\u001B[43mgradient\u001B[49m\u001B[43m,\u001B[49m\u001B[43m \u001B[49m\u001B[43mretain_graph\u001B[49m\u001B[43m,\u001B[49m\u001B[43m \u001B[49m\u001B[43mcreate_graph\u001B[49m\u001B[43m,\u001B[49m\u001B[43m \u001B[49m\u001B[43minputs\u001B[49m\u001B[38;5;241;43m=\u001B[39;49m\u001B[43minputs\u001B[49m\n\u001B[1;32m    583\u001B[0m \u001B[43m\u001B[49m\u001B[43m)\u001B[49m\n",
      "File \u001B[0;32m~/PycharmProjects/IDC_Pytorch/.venv/lib/python3.9/site-packages/torch/autograd/__init__.py:347\u001B[0m, in \u001B[0;36mbackward\u001B[0;34m(tensors, grad_tensors, retain_graph, create_graph, grad_variables, inputs)\u001B[0m\n\u001B[1;32m    342\u001B[0m     retain_graph \u001B[38;5;241m=\u001B[39m create_graph\n\u001B[1;32m    344\u001B[0m \u001B[38;5;66;03m# The reason we repeat the same comment below is that\u001B[39;00m\n\u001B[1;32m    345\u001B[0m \u001B[38;5;66;03m# some Python versions print out the first line of a multi-line function\u001B[39;00m\n\u001B[1;32m    346\u001B[0m \u001B[38;5;66;03m# calls in the traceback and some print out the last line\u001B[39;00m\n\u001B[0;32m--> 347\u001B[0m \u001B[43m_engine_run_backward\u001B[49m\u001B[43m(\u001B[49m\n\u001B[1;32m    348\u001B[0m \u001B[43m    \u001B[49m\u001B[43mtensors\u001B[49m\u001B[43m,\u001B[49m\n\u001B[1;32m    349\u001B[0m \u001B[43m    \u001B[49m\u001B[43mgrad_tensors_\u001B[49m\u001B[43m,\u001B[49m\n\u001B[1;32m    350\u001B[0m \u001B[43m    \u001B[49m\u001B[43mretain_graph\u001B[49m\u001B[43m,\u001B[49m\n\u001B[1;32m    351\u001B[0m \u001B[43m    \u001B[49m\u001B[43mcreate_graph\u001B[49m\u001B[43m,\u001B[49m\n\u001B[1;32m    352\u001B[0m \u001B[43m    \u001B[49m\u001B[43minputs\u001B[49m\u001B[43m,\u001B[49m\n\u001B[1;32m    353\u001B[0m \u001B[43m    \u001B[49m\u001B[43mallow_unreachable\u001B[49m\u001B[38;5;241;43m=\u001B[39;49m\u001B[38;5;28;43;01mTrue\u001B[39;49;00m\u001B[43m,\u001B[49m\n\u001B[1;32m    354\u001B[0m \u001B[43m    \u001B[49m\u001B[43maccumulate_grad\u001B[49m\u001B[38;5;241;43m=\u001B[39;49m\u001B[38;5;28;43;01mTrue\u001B[39;49;00m\u001B[43m,\u001B[49m\n\u001B[1;32m    355\u001B[0m \u001B[43m\u001B[49m\u001B[43m)\u001B[49m\n",
      "File \u001B[0;32m~/PycharmProjects/IDC_Pytorch/.venv/lib/python3.9/site-packages/torch/autograd/graph.py:825\u001B[0m, in \u001B[0;36m_engine_run_backward\u001B[0;34m(t_outputs, *args, **kwargs)\u001B[0m\n\u001B[1;32m    823\u001B[0m     unregister_hooks \u001B[38;5;241m=\u001B[39m _register_logging_hooks_on_whole_graph(t_outputs)\n\u001B[1;32m    824\u001B[0m \u001B[38;5;28;01mtry\u001B[39;00m:\n\u001B[0;32m--> 825\u001B[0m     \u001B[38;5;28;01mreturn\u001B[39;00m \u001B[43mVariable\u001B[49m\u001B[38;5;241;43m.\u001B[39;49m\u001B[43m_execution_engine\u001B[49m\u001B[38;5;241;43m.\u001B[39;49m\u001B[43mrun_backward\u001B[49m\u001B[43m(\u001B[49m\u001B[43m  \u001B[49m\u001B[38;5;66;43;03m# Calls into the C++ engine to run the backward pass\u001B[39;49;00m\n\u001B[1;32m    826\u001B[0m \u001B[43m        \u001B[49m\u001B[43mt_outputs\u001B[49m\u001B[43m,\u001B[49m\u001B[43m \u001B[49m\u001B[38;5;241;43m*\u001B[39;49m\u001B[43margs\u001B[49m\u001B[43m,\u001B[49m\u001B[43m \u001B[49m\u001B[38;5;241;43m*\u001B[39;49m\u001B[38;5;241;43m*\u001B[39;49m\u001B[43mkwargs\u001B[49m\n\u001B[1;32m    827\u001B[0m \u001B[43m    \u001B[49m\u001B[43m)\u001B[49m  \u001B[38;5;66;03m# Calls into the C++ engine to run the backward pass\u001B[39;00m\n\u001B[1;32m    828\u001B[0m \u001B[38;5;28;01mfinally\u001B[39;00m:\n\u001B[1;32m    829\u001B[0m     \u001B[38;5;28;01mif\u001B[39;00m attach_logging_hooks:\n",
      "\u001B[0;31mKeyboardInterrupt\u001B[0m: "
     ]
    }
   ],
   "execution_count": 40
  },
  {
   "cell_type": "code",
   "source": "plt.plot(valac)\nplt.plot(trac)\nplt.xlabel('Epoch')\nplt.ylabel('Accuracy')\nplt.legend(['validation','train'])",
   "metadata": {
    "execution": {
     "iopub.execute_input": "2023-09-02T15:18:34.005463Z",
     "iopub.status.busy": "2023-09-02T15:18:34.005104Z",
     "iopub.status.idle": "2023-09-02T15:18:34.330663Z",
     "shell.execute_reply": "2023-09-02T15:18:34.329764Z",
     "shell.execute_reply.started": "2023-09-02T15:18:34.005431Z"
    },
    "id": "b_UY1QCwve6I",
    "outputId": "803594b7-dbfe-43f1-e438-437ab6db610b",
    "trusted": true
   },
   "outputs": [],
   "execution_count": null
  },
  {
   "cell_type": "code",
   "source": "cuda_tensor = torch.tensor(vall)\nvls = cuda_tensor.cpu()\ncuda_tensor = torch.tensor(trl)\ntls = cuda_tensor.cpu()",
   "metadata": {
    "execution": {
     "iopub.execute_input": "2023-09-02T15:18:42.378661Z",
     "iopub.status.busy": "2023-09-02T15:18:42.378277Z",
     "iopub.status.idle": "2023-09-02T15:18:42.385101Z",
     "shell.execute_reply": "2023-09-02T15:18:42.384079Z",
     "shell.execute_reply.started": "2023-09-02T15:18:42.378629Z"
    },
    "id": "pd5k8gWCve6J",
    "trusted": true
   },
   "outputs": [],
   "execution_count": null
  },
  {
   "cell_type": "code",
   "source": "plt.plot(vls)\nplt.plot(tls)\nplt.xlabel('Epoch')\nplt.ylabel('Loss')\nplt.legend(['validation','train'])",
   "metadata": {
    "execution": {
     "iopub.execute_input": "2023-09-02T15:18:49.996278Z",
     "iopub.status.busy": "2023-09-02T15:18:49.995925Z",
     "iopub.status.idle": "2023-09-02T15:18:50.301465Z",
     "shell.execute_reply": "2023-09-02T15:18:50.300573Z",
     "shell.execute_reply.started": "2023-09-02T15:18:49.99625Z"
    },
    "id": "XJ6akYjive6J",
    "outputId": "94f46cc4-c311-4115-9614-ff69f5464f14",
    "trusted": true
   },
   "outputs": [],
   "execution_count": null
  },
  {
   "cell_type": "code",
   "source": "vggmodel.load_state_dict(vgg_best_weights)\nvggmodel.to(device)",
   "metadata": {
    "execution": {
     "iopub.execute_input": "2023-09-02T15:18:54.939263Z",
     "iopub.status.busy": "2023-09-02T15:18:54.938585Z",
     "iopub.status.idle": "2023-09-02T15:18:54.950617Z",
     "shell.execute_reply": "2023-09-02T15:18:54.949324Z",
     "shell.execute_reply.started": "2023-09-02T15:18:54.939228Z"
    },
    "id": "MBSE9_QQSWp0",
    "outputId": "c661f2ed-9287-4d5b-df86-41ef78d5570d",
    "trusted": true
   },
   "outputs": [],
   "execution_count": null
  },
  {
   "cell_type": "code",
   "source": "vggpredict = []\nvgglabel = []\n\nvggmodel.eval()\nconfusion_matrix = torch.zeros(2, 2)\nwith torch.no_grad():\n    correct = 0\n    total = 0\n    for images, labels in loader_test:\n        images = images.to(device)\n        labels = labels.to(device)\n        outputs = vggmodel(images)\n        _, predicted = torch.max(outputs.data, 1)\n        total += labels.size(0)\n        correct += (predicted == labels).sum().item()\n\n        vggpredict.extend(predicted)\n        vgglabel.extend(labels)\n\n        for t, p in zip(labels.view(-1), predicted.view(-1)):\n                confusion_matrix[t.long(), p.long()] += 1\n\n    print('Test Accuracy of the model on the test images: {} %'.format(100 * correct / total))",
   "metadata": {
    "execution": {
     "iopub.execute_input": "2023-09-02T15:19:01.786013Z",
     "iopub.status.busy": "2023-09-02T15:19:01.785295Z",
     "iopub.status.idle": "2023-09-02T15:27:50.653683Z",
     "shell.execute_reply": "2023-09-02T15:27:50.65272Z",
     "shell.execute_reply.started": "2023-09-02T15:19:01.785978Z"
    },
    "id": "XoUm61UeSWp9",
    "outputId": "d34fe23f-7684-4707-e236-793b2176fafa",
    "trusted": true
   },
   "outputs": [],
   "execution_count": null
  },
  {
   "cell_type": "code",
   "source": "label_vgg = [tensor.cpu().numpy() for tensor in vgglabel]\nvgg_array = [tensor.cpu().numpy() for tensor in vggpredict]",
   "metadata": {
    "execution": {
     "iopub.execute_input": "2023-09-02T15:28:00.179832Z",
     "iopub.status.busy": "2023-09-02T15:28:00.179482Z",
     "iopub.status.idle": "2023-09-02T15:28:02.474268Z",
     "shell.execute_reply": "2023-09-02T15:28:02.473223Z",
     "shell.execute_reply.started": "2023-09-02T15:28:00.179802Z"
    },
    "id": "pz_DOvB-SWp-",
    "trusted": true
   },
   "outputs": [],
   "execution_count": null
  },
  {
   "cell_type": "code",
   "source": "from sklearn.metrics import confusion_matrix, classification_report\nprint(confusion_matrix(label_vgg, vgg_array))\nprint(classification_report(label_vgg, vgg_array))",
   "metadata": {
    "execution": {
     "iopub.execute_input": "2023-09-02T15:28:05.125207Z",
     "iopub.status.busy": "2023-09-02T15:28:05.124818Z",
     "iopub.status.idle": "2023-09-02T15:28:05.419747Z",
     "shell.execute_reply": "2023-09-02T15:28:05.41863Z",
     "shell.execute_reply.started": "2023-09-02T15:28:05.125177Z"
    },
    "id": "Y1aeGnTave6N",
    "outputId": "ce357866-112e-49d1-f912-29eea2059c00",
    "trusted": true
   },
   "outputs": [],
   "execution_count": null
  },
  {
   "cell_type": "code",
   "source": "dfv = pd.DataFrame()\ndfv[\"vgg\"] = vgg_array\ndfv[\"label\"] = label_vgg\ndfv.head()\ndfv.to_csv('vgwithaug.csv')",
   "metadata": {
    "execution": {
     "iopub.execute_input": "2023-09-02T15:28:09.026623Z",
     "iopub.status.busy": "2023-09-02T15:28:09.025894Z",
     "iopub.status.idle": "2023-09-02T15:28:09.640189Z",
     "shell.execute_reply": "2023-09-02T15:28:09.639197Z",
     "shell.execute_reply.started": "2023-09-02T15:28:09.026579Z"
    },
    "id": "lBrWKGqUSWqE",
    "trusted": true
   },
   "outputs": [],
   "execution_count": null
  },
  {
   "cell_type": "code",
   "source": "torch.save({\n    'model_state_dict': vggmodel.state_dict(),\n    'optimizer_state_dict': optimizer.state_dict()\n}, 'checkpointvgg50withaug.pth')",
   "metadata": {
    "execution": {
     "iopub.execute_input": "2023-09-02T15:28:12.949142Z",
     "iopub.status.busy": "2023-09-02T15:28:12.947984Z",
     "iopub.status.idle": "2023-09-02T15:28:15.301693Z",
     "shell.execute_reply": "2023-09-02T15:28:15.300791Z",
     "shell.execute_reply.started": "2023-09-02T15:28:12.949095Z"
    },
    "id": "0_li_mqUve6O",
    "trusted": true
   },
   "outputs": [],
   "execution_count": null
  }
 ]
}
